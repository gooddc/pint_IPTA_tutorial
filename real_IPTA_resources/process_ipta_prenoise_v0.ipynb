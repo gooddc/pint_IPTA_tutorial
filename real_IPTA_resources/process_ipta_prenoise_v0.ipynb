{
 "cells": [
  {
   "cell_type": "markdown",
   "metadata": {},
   "source": [
    "# \\[set-up\\], imports\n",
    "Reminder (if working on the notebook server): make sure your copy of `timing_analysis` is up to date and you're working on a development branch, e.g. `psr/J1234+5678/jks`. See README for more details. If not working on the notebook server, you may need to update required software packages (`pint`, `enterprise`, `enterprise_extensions`) according to requirements in `setup.py`."
   ]
  },
  {
   "cell_type": "code",
   "execution_count": null,
   "metadata": {},
   "outputs": [],
   "source": [
    "import timing_analysis.par_checker as pc\n",
    "import timing_analysis.dmx_utils as du\n",
    "import timing_analysis.lite_utils as lu\n",
    "import timing_analysis.noise_utils as nu\n",
    "import timing_analysis.plot_utils as pu\n",
    "from timing_analysis.ftester import run_Ftests\n",
    "from timing_analysis.utils import resid_stats, pdf_writer, check_recentness_excision, check_recentness_noise\n",
    "from timing_analysis.timingconfiguration import TimingConfiguration\n",
    "from astropy import log\n",
    "from pint.fitter import ConvergenceFailure\n",
    "import pint.fitter\n",
    "from pint.utils import dmxparse\n",
    "import os\n",
    "import copy\n",
    "from astropy.visualization import quantity_support\n",
    "quantity_support()\n",
    "\n",
    "# notebook gives interactive plots but not until the kernel is done\n",
    "%matplotlib notebook\n",
    "# inline gives non-interactive plots right away\n",
    "#%matplotlib inline"
   ]
  },
  {
   "cell_type": "code",
   "execution_count": null,
   "metadata": {},
   "outputs": [],
   "source": [
    "# default assumption is that notebook is being run by hand\n",
    "autorun = False\n",
    "run_Ftest = True  # Set to False if you don't need F-tests and want a faster notebook run!\n",
    "check_excision = True\n",
    "num_noise_iter = 2e5\n",
    "use_dmx = False\n",
    "\n",
    "if not autorun:\n",
    "    run_noise_analysis = False \n",
    "    use_existing_noise_dir = True\n",
    "    use_toa_pickle = True\n",
    "else:\n",
    "    run_noise_analysis = True \n",
    "    use_existing_noise_dir = False\n",
    "    use_toa_pickle = False"
   ]
  },
  {
   "cell_type": "code",
   "execution_count": null,
   "metadata": {},
   "outputs": [],
   "source": [
    "log.setLevel(\"INFO\") # Set desired verbosity of log statements (DEBUG/INFO/WARNING/ERROR)\n",
    "log_to_file = False\n",
    "\n",
    "lu.git_config_info()"
   ]
  },
  {
   "cell_type": "markdown",
   "metadata": {},
   "source": [
    "# develop/update \\[prenoise\\] timing solution\n",
    "\n",
    "Load configuration (`.yaml`) file, get TOAs and timing model; if you're running from the root of the git distribution, simply edit the `.yaml` file name, otherwise include relevant paths to the `.yaml` file, and `.par`/`.tim` directories as kwargs (see commented example)."
   ]
  },
  {
   "cell_type": "code",
   "execution_count": null,
   "metadata": {},
   "outputs": [],
   "source": [
    "config = \"configs/[psr_name].[nb or wb].yaml\"  # fill in actual path\n",
    "par_directory = None   # default location\n",
    "tim_directory = None   # default location\n",
    "tc = TimingConfiguration(config, par_directory=par_directory, tim_directory=tim_directory)\n",
    "\n",
    "using_wideband = tc.get_toa_type() == 'WB'\n",
    "\n",
    "# Use excise.tim file if it exists, else revert to raw TOAs & initial cuts\n",
    "mo,to = tc.get_model_and_toas(excised=False,usepickle=use_toa_pickle)\n",
    "if not to: mo,to = tc.get_model_and_toas(apply_initial_cuts=False)\n",
    "# Can write this back in when I finalize flag situation.\n",
    "#tc.manual_cuts(to)\n",
    "\n",
    "if log_to_file:\n",
    "    lu.log_notebook_to_file(tc.get_source(), tc.get_toa_type())\n",
    "    lu.log_warnings()"
   ]
  },
  {
   "cell_type": "code",
   "execution_count": null,
   "metadata": {},
   "outputs": [],
   "source": [
    "# Computing pulse numbers ensures param changes in the model will not break phase connection\n",
    "to.compute_pulse_numbers(mo)"
   ]
  },
  {
   "cell_type": "code",
   "execution_count": null,
   "metadata": {},
   "outputs": [],
   "source": [
    "# Ensure DMX windows are calculated properly, set non-binary epochs to the center of the data span\n",
    "if use_dmx == True:\n",
    "    to = du.setup_dmx(mo,to,frequency_ratio=tc.get_fratio(),max_delta_t=tc.get_sw_delay())\n",
    "    lu.center_epochs(mo,to)\n",
    "if not autorun: to.print_summary()"
   ]
  },
  {
   "cell_type": "markdown",
   "metadata": {},
   "source": [
    "Run basic checks for pulsar name, solar system ephemeris, clock correction, ecliptic coordinates, tropospheric delays, planet Shapiro delays, and if applicable, removal of Arecibo data affected by bad LO. Check that TOAs being used are from the latest `toagen` release. Also check for the appropriate number of receiver JUMPs and DMJUMPs and fix them automatically if necessary."
   ]
  },
  {
   "cell_type": "code",
   "execution_count": null,
   "metadata": {},
   "outputs": [],
   "source": [
    "pc.check_settings(mo,to)\n",
    "\n",
    "receivers = lu.get_receivers(to)\n",
    "lu.add_feJumps(mo,receivers)\n",
    "if using_wideband:\n",
    "    lu.add_feDMJumps(mo,receivers)\n",
    "pc.check_jumps(mo,receivers,toa_type=tc.get_toa_type())\n",
    "\n",
    "if not autorun: check_recentness_excision(tc)"
   ]
  },
  {
   "cell_type": "code",
   "execution_count": null,
   "metadata": {},
   "outputs": [],
   "source": [
    "# Define the fitter object and plot pre-fit residuals\n",
    "fo = tc.construct_fitter(to,mo)\n",
    "pu.plot_residuals_time(fo, restype='prefit')\n",
    "if mo.is_binary:\n",
    "    pu.plot_residuals_orb(fo, restype='prefit')\n",
    "if using_wideband:\n",
    "    pu.plot_dm_residuals(fo, restype='prefit')"
   ]
  },
  {
   "cell_type": "code",
   "execution_count": null,
   "metadata": {},
   "outputs": [],
   "source": [
    "# Check that free-params follow NANOGrav conventions, fit\n",
    "fo.model.free_params = tc.get_free_params(fo)\n",
    "lu.check_fit(fo,skip_check=tc.skip_check)\n",
    "\n",
    "try:\n",
    "    fo.fit_toas(maxiter=tc.get_niter())\n",
    "    fo.model.CHI2.value = fo.resids.chi2\n",
    "except ConvergenceFailure:\n",
    "    run_Ftest = False\n",
    "    log.warning('Failed to converge; moving on with best result, but should address before final version.')"
   ]
  },
  {
   "cell_type": "code",
   "execution_count": null,
   "metadata": {},
   "outputs": [],
   "source": [
    "# Plot post-fit residuals, print summary of results, write prenoise solution\n",
    "pu.plot_residuals_time(fo, restype='postfit')\n",
    "if mo.is_binary:\n",
    "    pu.plot_residuals_orb(fo, restype='postfit')\n",
    "if using_wideband:\n",
    "    pu.plot_dm_residuals(fo, restype='postfit')\n",
    "    \n",
    "if not autorun: fo.print_summary()\n",
    "lu.check_convergence(fo)\n",
    "\n",
    "lu.write_par(fo,toatype=tc.get_toa_type(),addext='_prenoise')"
   ]
  },
  {
   "cell_type": "code",
   "execution_count": null,
   "metadata": {},
   "outputs": [],
   "source": []
  }
 ],
 "metadata": {
  "kernelspec": {
   "display_name": "Python 3 (ipykernel)",
   "language": "python",
   "name": "python3"
  },
  "language_info": {
   "codemirror_mode": {
    "name": "ipython",
    "version": 3
   },
   "file_extension": ".py",
   "mimetype": "text/x-python",
   "name": "python",
   "nbconvert_exporter": "python",
   "pygments_lexer": "ipython3",
   "version": "3.9.6"
  }
 },
 "nbformat": 4,
 "nbformat_minor": 2
}
